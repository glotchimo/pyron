{
 "cells": [
  {
   "cell_type": "markdown",
   "id": "ad20f53c-6ac8-477a-9e4e-ff6dd98ecc24",
   "metadata": {},
   "source": [
    "# Testing the dense NN for classification using the MNIST image data\n",
    "\n",
    "## Author: Bojian Xu, bojianxu@ewu.edu"
   ]
  },
  {
   "cell_type": "code",
   "execution_count": 1,
   "id": "9459c47e-4bca-4f45-be65-136edbd88632",
   "metadata": {},
   "outputs": [],
   "source": [
    "import numpy as np\n",
    "import pandas as pd\n",
    "import matplotlib.pyplot as plt\n",
    "import neural as nn\n",
    "import sys\n",
    "from utils import normalize_0_1"
   ]
  },
  {
   "cell_type": "code",
   "execution_count": 2,
   "id": "004d2501-4984-4e71-97fc-ba307dd1a5a2",
   "metadata": {},
   "outputs": [],
   "source": [
    "k = 10  #number of classes\n",
    "d = 784 #number of features, excluding the bias feature"
   ]
  },
  {
   "cell_type": "code",
   "execution_count": 3,
   "id": "4b122b78-4cb1-4e42-a725-1427857ba84e",
   "metadata": {},
   "outputs": [
    {
     "name": "stdout",
     "output_type": "stream",
     "text": [
      "(60000, 784)\n",
      "(60000, 10)\n",
      "(10000, 784)\n",
      "(10000, 10)\n"
     ]
    }
   ],
   "source": [
    "# READ in data\n",
    "df_X_train = pd.read_csv('data/MNIST/x_train.csv', header=None)\n",
    "df_y_train = pd.read_csv('data/MNIST/y_train.csv', header=None)\n",
    "df_X_test = pd.read_csv('data/MNIST/x_test.csv', header=None)\n",
    "df_y_test = pd.read_csv('data/MNIST/y_test.csv', header=None)\n",
    "\n",
    "# save in numpy arrays\n",
    "X_train_raw = df_X_train.to_numpy()\n",
    "y_train_raw = df_y_train.to_numpy()\n",
    "X_test_raw = df_X_test.to_numpy()\n",
    "y_test_raw = df_y_test.to_numpy()\n",
    "\n",
    "# get training set size\n",
    "n_train = X_train_raw.shape[0]\n",
    "n_test = X_test_raw.shape[0]\n",
    "\n",
    "# normalize all features to [0,1]\n",
    "X_all = normalize_0_1(np.concatenate((X_train_raw, X_test_raw), axis=0))\n",
    "X_train = X_all[:n_train]\n",
    "X_test = X_all[n_train:]\n",
    "\n",
    "# convert each label into a 0-1 vector\n",
    "y_train = np.zeros((n_train, k))\n",
    "y_test = np.zeros((n_test, k))\n",
    "for i in range(n_train):\n",
    "    y_train[i,int(y_train_raw[i])] = 1.0\n",
    "for i in range(n_test):\n",
    "    y_test[i,int(y_test_raw[i])] = 1.0\n",
    "\n",
    "\n",
    "print(X_train.shape)\n",
    "print(y_train.shape)\n",
    "print(X_test.shape)\n",
    "print(y_test.shape)\n",
    "#print(y_test)"
   ]
  },
  {
   "cell_type": "code",
   "execution_count": 4,
   "id": "b963de09-dd31-4382-8f97-4aceb4df56d6",
   "metadata": {},
   "outputs": [],
   "source": [
    "#print(y_train[-10:])"
   ]
  },
  {
   "cell_type": "code",
   "execution_count": 5,
   "id": "ac8927c9-c95b-419c-8c66-a0bf831e5bd7",
   "metadata": {},
   "outputs": [],
   "source": [
    "# build the network\n",
    "nuts = nn.NeuralNetwork()\n",
    "\n",
    "nuts.add_layer(d = d)  # input layer - 0\n",
    "\n",
    "nuts.add_layer(d = 100, act = 'relu')  # hidden layer - 1\n",
    "nuts.add_layer(d = 30, act = 'relu')  # hiddent layer - 2\n",
    "#nuts.add_layer(d = 100, act = 'relu')  # hiddent layer - 3\n",
    "#nuts.add_layer(d = 30, act = 'relu')  # hiddent layer - 4\n",
    "\n",
    "nuts.add_layer(d = k, act = 'logis')  # output layer,    multi-class classification, #classes = k"
   ]
  },
  {
   "cell_type": "code",
   "execution_count": 6,
   "id": "558e4ccf-178b-4d39-9724-e986279d7daa",
   "metadata": {},
   "outputs": [
    {
     "ename": "ValueError",
     "evalue": "operands could not be broadcast together with shapes (20,11) (20,10) ",
     "output_type": "error",
     "traceback": [
      "\u001b[0;31m---------------------------------------------------------------------------\u001b[0m",
      "\u001b[0;31mValueError\u001b[0m                                Traceback (most recent call last)",
      "Input \u001b[0;32mIn [6]\u001b[0m, in \u001b[0;36m<module>\u001b[0;34m\u001b[0m\n\u001b[0;32m----> 1\u001b[0m \u001b[43mnuts\u001b[49m\u001b[38;5;241;43m.\u001b[39;49m\u001b[43mfit\u001b[49m\u001b[43m(\u001b[49m\u001b[43mX_train\u001b[49m\u001b[43m,\u001b[49m\u001b[43m \u001b[49m\u001b[43my_train\u001b[49m\u001b[43m,\u001b[49m\u001b[43m \u001b[49m\u001b[43meta\u001b[49m\u001b[43m \u001b[49m\u001b[38;5;241;43m=\u001b[39;49m\u001b[43m \u001b[49m\u001b[38;5;241;43m0.1\u001b[39;49m\u001b[43m,\u001b[49m\u001b[43m \u001b[49m\u001b[43miterations\u001b[49m\u001b[43m \u001b[49m\u001b[38;5;241;43m=\u001b[39;49m\u001b[43m \u001b[49m\u001b[38;5;241;43m100000\u001b[39;49m\u001b[43m,\u001b[49m\u001b[43m \u001b[49m\u001b[43mSGD\u001b[49m\u001b[43m \u001b[49m\u001b[38;5;241;43m=\u001b[39;49m\u001b[43m \u001b[49m\u001b[38;5;28;43;01mTrue\u001b[39;49;00m\u001b[43m,\u001b[49m\u001b[43m \u001b[49m\u001b[43mmini_batch_size\u001b[49m\u001b[43m \u001b[49m\u001b[38;5;241;43m=\u001b[39;49m\u001b[43m \u001b[49m\u001b[38;5;241;43m20\u001b[39;49m\u001b[43m)\u001b[49m\n",
      "File \u001b[0;32m~/python/pyron/neural.py:106\u001b[0m, in \u001b[0;36mNeuralNetwork.fit\u001b[0;34m(self, X, Y, eta, iterations, SGD, mini_batch_size)\u001b[0m\n\u001b[1;32m    102\u001b[0m \u001b[38;5;28;01mif\u001b[39;00m SGD:\n\u001b[1;32m    103\u001b[0m     mini_batch_size \u001b[38;5;241m=\u001b[39m (\n\u001b[1;32m    104\u001b[0m         n \u001b[38;5;28;01mif\u001b[39;00m mini_batch_size \u001b[38;5;241m>\u001b[39m n \u001b[38;5;129;01mor\u001b[39;00m mini_batch_size \u001b[38;5;241m<\u001b[39m \u001b[38;5;241m1\u001b[39m \u001b[38;5;28;01melse\u001b[39;00m mini_batch_size\n\u001b[1;32m    105\u001b[0m     )\n\u001b[0;32m--> 106\u001b[0m     \u001b[38;5;28;43mself\u001b[39;49m\u001b[38;5;241;43m.\u001b[39;49m\u001b[43m_fit_sgd\u001b[49m\u001b[43m(\u001b[49m\u001b[43mX\u001b[49m\u001b[43m,\u001b[49m\u001b[43m \u001b[49m\u001b[43mY\u001b[49m\u001b[43m,\u001b[49m\u001b[43m \u001b[49m\u001b[43meta\u001b[49m\u001b[43m,\u001b[49m\u001b[43m \u001b[49m\u001b[43miterations\u001b[49m\u001b[43m,\u001b[49m\u001b[43m \u001b[49m\u001b[43mmini_batch_size\u001b[49m\u001b[43m)\u001b[49m\n\u001b[1;32m    107\u001b[0m \u001b[38;5;28;01melse\u001b[39;00m:\n\u001b[1;32m    108\u001b[0m     \u001b[38;5;28mself\u001b[39m\u001b[38;5;241m.\u001b[39m_fit_bgd(X, Y, eta, iterations)\n",
      "File \u001b[0;32m~/python/pyron/neural.py:147\u001b[0m, in \u001b[0;36mNeuralNetwork._fit_sgd\u001b[0;34m(self, X, Y, eta, iterations, mini_batch_size)\u001b[0m\n\u001b[1;32m    140\u001b[0m     \u001b[38;5;28mself\u001b[39m\u001b[38;5;241m.\u001b[39mlayers[l]\u001b[38;5;241m.\u001b[39mS \u001b[38;5;241m=\u001b[39m \u001b[38;5;28mself\u001b[39m\u001b[38;5;241m.\u001b[39mlayers[l \u001b[38;5;241m-\u001b[39m \u001b[38;5;241m1\u001b[39m]\u001b[38;5;241m.\u001b[39mX \u001b[38;5;241m@\u001b[39m \u001b[38;5;28mself\u001b[39m\u001b[38;5;241m.\u001b[39mlayers[l]\u001b[38;5;241m.\u001b[39mW\n\u001b[1;32m    141\u001b[0m     \u001b[38;5;28mself\u001b[39m\u001b[38;5;241m.\u001b[39mlayers[l]\u001b[38;5;241m.\u001b[39mX \u001b[38;5;241m=\u001b[39m np\u001b[38;5;241m.\u001b[39minsert(\n\u001b[1;32m    142\u001b[0m         \u001b[38;5;28mself\u001b[39m\u001b[38;5;241m.\u001b[39mlayers[l]\u001b[38;5;241m.\u001b[39mact(\u001b[38;5;28mself\u001b[39m\u001b[38;5;241m.\u001b[39mlayers[l]\u001b[38;5;241m.\u001b[39mS), \u001b[38;5;241m0\u001b[39m, \u001b[38;5;241m1\u001b[39m, axis\u001b[38;5;241m=\u001b[39m\u001b[38;5;241m1\u001b[39m\n\u001b[1;32m    143\u001b[0m     )\n\u001b[1;32m    145\u001b[0m \u001b[38;5;28mself\u001b[39m\u001b[38;5;241m.\u001b[39mlayers[\u001b[38;5;28mself\u001b[39m\u001b[38;5;241m.\u001b[39mL]\u001b[38;5;241m.\u001b[39mDelta \u001b[38;5;241m=\u001b[39m (\n\u001b[1;32m    146\u001b[0m     \u001b[38;5;241m2\u001b[39m\n\u001b[0;32m--> 147\u001b[0m     \u001b[38;5;241m*\u001b[39m (\u001b[38;5;28;43mself\u001b[39;49m\u001b[38;5;241;43m.\u001b[39;49m\u001b[43mlayers\u001b[49m\u001b[43m[\u001b[49m\u001b[38;5;28;43mself\u001b[39;49m\u001b[38;5;241;43m.\u001b[39;49m\u001b[43mL\u001b[49m\u001b[43m]\u001b[49m\u001b[38;5;241;43m.\u001b[39;49m\u001b[43mX\u001b[49m\u001b[43m \u001b[49m\u001b[38;5;241;43m-\u001b[39;49m\u001b[43m \u001b[49m\u001b[43mY_p\u001b[49m)\n\u001b[1;32m    148\u001b[0m     \u001b[38;5;241m*\u001b[39m (\u001b[38;5;28mself\u001b[39m\u001b[38;5;241m.\u001b[39mlayers[\u001b[38;5;28mself\u001b[39m\u001b[38;5;241m.\u001b[39mL]\u001b[38;5;241m.\u001b[39mact_de(\u001b[38;5;28mself\u001b[39m\u001b[38;5;241m.\u001b[39mlayers[\u001b[38;5;28mself\u001b[39m\u001b[38;5;241m.\u001b[39mL]\u001b[38;5;241m.\u001b[39mS))\n\u001b[1;32m    149\u001b[0m )\n\u001b[1;32m    151\u001b[0m \u001b[38;5;28mself\u001b[39m\u001b[38;5;241m.\u001b[39mlayers[\u001b[38;5;28mself\u001b[39m\u001b[38;5;241m.\u001b[39mL]\u001b[38;5;241m.\u001b[39mG \u001b[38;5;241m=\u001b[39m np\u001b[38;5;241m.\u001b[39meinsum(\n\u001b[1;32m    152\u001b[0m     \u001b[38;5;124m\"\u001b[39m\u001b[38;5;124mij, ik -> jk\u001b[39m\u001b[38;5;124m\"\u001b[39m, \u001b[38;5;28mself\u001b[39m\u001b[38;5;241m.\u001b[39mlayers[\u001b[38;5;28mself\u001b[39m\u001b[38;5;241m.\u001b[39mL \u001b[38;5;241m-\u001b[39m\n\u001b[1;32m    153\u001b[0m                                 \u001b[38;5;241m1\u001b[39m], \u001b[38;5;28mself\u001b[39m\u001b[38;5;241m.\u001b[39mlayers[\u001b[38;5;28mself\u001b[39m\u001b[38;5;241m.\u001b[39mL]\u001b[38;5;241m.\u001b[39mDelta\n\u001b[1;32m    154\u001b[0m ) \u001b[38;5;241m*\u001b[39m (\u001b[38;5;241m1\u001b[39m \u001b[38;5;241m/\u001b[39m n_p)\n\u001b[1;32m    156\u001b[0m \u001b[38;5;28;01mfor\u001b[39;00m l \u001b[38;5;129;01min\u001b[39;00m \u001b[38;5;28mrange\u001b[39m(\u001b[38;5;28mself\u001b[39m\u001b[38;5;241m.\u001b[39mL \u001b[38;5;241m-\u001b[39m \u001b[38;5;241m1\u001b[39m, \u001b[38;5;241m0\u001b[39m, \u001b[38;5;241m-\u001b[39m\u001b[38;5;241m1\u001b[39m):\n",
      "\u001b[0;31mValueError\u001b[0m: operands could not be broadcast together with shapes (20,11) (20,10) "
     ]
    }
   ],
   "source": [
    "nuts.fit(X_train, y_train, eta = 0.1, iterations = 100000, SGD = True, mini_batch_size = 20)"
   ]
  },
  {
   "cell_type": "code",
   "execution_count": null,
   "id": "b8ecd81e-7afb-4465-933a-98d53465e419",
   "metadata": {},
   "outputs": [],
   "source": [
    "print(nuts.error(X_train, y_train))\n",
    "print(nuts.error(X_test, y_test))"
   ]
  },
  {
   "cell_type": "code",
   "execution_count": null,
   "id": "caa662a0-5c7e-4399-be73-478fdec87dbd",
   "metadata": {},
   "outputs": [],
   "source": [
    "preds = nuts.predict(X_test)"
   ]
  },
  {
   "cell_type": "code",
   "execution_count": null,
   "id": "f4185626-ad8d-47ca-8253-77eb0fe21a0f",
   "metadata": {},
   "outputs": [],
   "source": [
    "#print(preds[:100])\n",
    "#print(y_test_raw[:100])\n",
    "print(np.sum(preds != y_test_raw))"
   ]
  },
  {
   "cell_type": "code",
   "execution_count": null,
   "id": "8a159f2c-5b6c-457a-a2fb-24878a34b4e0",
   "metadata": {},
   "outputs": [],
   "source": [
    "for i in range(y_test.shape[0]):\n",
    "    if preds[i] != y_test_raw[i]:\n",
    "        print('misclassified!!')\n",
    "    print('predicted as', preds[i])\n",
    "    print('label is', y_test_raw[i])\n",
    "    pixels = X_test_raw[i].reshape((28, 28))\n",
    "    plt.imshow(pixels, cmap='gray')\n",
    "    plt.show()"
   ]
  }
 ],
 "metadata": {
  "kernelspec": {
   "display_name": "Python 3 (ipykernel)",
   "language": "python",
   "name": "python3"
  },
  "language_info": {
   "codemirror_mode": {
    "name": "ipython",
    "version": 3
   },
   "file_extension": ".py",
   "mimetype": "text/x-python",
   "name": "python",
   "nbconvert_exporter": "python",
   "pygments_lexer": "ipython3",
   "version": "3.10.2"
  }
 },
 "nbformat": 4,
 "nbformat_minor": 5
}
